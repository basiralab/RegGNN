{
  "nbformat": 4,
  "nbformat_minor": 0,
  "metadata": {
    "colab": {
      "name": "example-colab.ipynb",
      "provenance": [],
      "include_colab_link": true
    },
    "kernelspec": {
      "display_name": "Python 3",
      "language": "python",
      "name": "python3"
    },
    "language_info": {
      "codemirror_mode": {
        "name": "ipython",
        "version": 3
      },
      "file_extension": ".py",
      "mimetype": "text/x-python",
      "name": "python",
      "nbconvert_exporter": "python",
      "pygments_lexer": "ipython3",
      "version": "3.6.9"
    }
  },
  "cells": [
    {
      "cell_type": "markdown",
      "metadata": {
        "id": "view-in-github",
        "colab_type": "text"
      },
      "source": [
        "<a href=\"https://colab.research.google.com/github/marifdemirtas/reggnn/blob/main/example.ipynb\" target=\"_parent\"><img src=\"https://colab.research.google.com/assets/colab-badge.svg\" alt=\"Open In Colab\"/></a>"
      ]
    },
    {
      "cell_type": "markdown",
      "metadata": {
        "id": "T5sh3ZERqiB4"
      },
      "source": [
        "This notebook is intended to show the usage of our proposed RegGNN and sample selection module on interactive notebook environments (e.g. Jupyter Notebook, Google Colab)."
      ]
    },
    {
      "cell_type": "markdown",
      "metadata": {
        "id": "-tcg4XIMqnEA"
      },
      "source": [
        "## Installation\n",
        "First, we install the required packages that are not already installed on our runtime. The following cell includes packages that are not installed on Colab."
      ]
    },
    {
      "cell_type": "code",
      "metadata": {
        "colab": {
          "base_uri": "https://localhost:8080/"
        },
        "id": "4K4qphBwRTK5",
        "outputId": "f99b5905-1c47-4171-85d0-6e12dd39bd6b"
      },
      "source": [
        "import torch\n",
        "torch, cuda = torch.__version__.split('+')\n",
        "!pip install torch-scatter -f https://pytorch-geometric.com/whl/torch-{torch}+{cuda}.html\n",
        "!pip install torch-sparse -f https://pytorch-geometric.com/whl/torch-{torch}+{cuda}.html\n",
        "!pip install torch-cluster -f https://pytorch-geometric.com/whl/torch-{torch}+{cuda}.html\n",
        "!pip install torch-spline-conv -f https://pytorch-geometric.com/whl/torch-{torch}+{cuda}.html\n",
        "!pip install torch-geometric \n",
        "!pip install pymanopt"
      ],
      "execution_count": 1,
      "outputs": [
        {
          "output_type": "stream",
          "text": [
            "Looking in links: https://pytorch-geometric.com/whl/torch-1.9.0+cu102.html\n",
            "Collecting torch-scatter\n",
            "\u001b[?25l  Downloading https://pytorch-geometric.com/whl/torch-1.9.0%2Bcu102/torch_scatter-2.0.7-cp37-cp37m-linux_x86_64.whl (2.6MB)\n",
            "\u001b[K     |████████████████████████████████| 2.6MB 2.6MB/s \n",
            "\u001b[?25hInstalling collected packages: torch-scatter\n",
            "Successfully installed torch-scatter-2.0.7\n",
            "Looking in links: https://pytorch-geometric.com/whl/torch-1.9.0+cu102.html\n",
            "Collecting torch-sparse\n",
            "\u001b[?25l  Downloading https://pytorch-geometric.com/whl/torch-1.9.0%2Bcu102/torch_sparse-0.6.10-cp37-cp37m-linux_x86_64.whl (1.4MB)\n",
            "\u001b[K     |████████████████████████████████| 1.4MB 2.6MB/s \n",
            "\u001b[?25hRequirement already satisfied: scipy in /usr/local/lib/python3.7/dist-packages (from torch-sparse) (1.4.1)\n",
            "Requirement already satisfied: numpy>=1.13.3 in /usr/local/lib/python3.7/dist-packages (from scipy->torch-sparse) (1.19.5)\n",
            "Installing collected packages: torch-sparse\n",
            "Successfully installed torch-sparse-0.6.10\n",
            "Looking in links: https://pytorch-geometric.com/whl/torch-1.9.0+cu102.html\n",
            "Collecting torch-cluster\n",
            "\u001b[?25l  Downloading https://pytorch-geometric.com/whl/torch-1.9.0%2Bcu102/torch_cluster-1.5.9-cp37-cp37m-linux_x86_64.whl (926kB)\n",
            "\u001b[K     |████████████████████████████████| 931kB 2.7MB/s \n",
            "\u001b[?25hInstalling collected packages: torch-cluster\n",
            "Successfully installed torch-cluster-1.5.9\n",
            "Looking in links: https://pytorch-geometric.com/whl/torch-1.9.0+cu102.html\n",
            "Collecting torch-spline-conv\n",
            "\u001b[?25l  Downloading https://pytorch-geometric.com/whl/torch-1.9.0%2Bcu102/torch_spline_conv-1.2.1-cp37-cp37m-linux_x86_64.whl (368kB)\n",
            "\u001b[K     |████████████████████████████████| 368kB 2.7MB/s \n",
            "\u001b[?25hInstalling collected packages: torch-spline-conv\n",
            "Successfully installed torch-spline-conv-1.2.1\n",
            "Collecting torch-geometric\n",
            "\u001b[?25l  Downloading https://files.pythonhosted.org/packages/33/4b/9f6bb94ccd93f3c9324cb6b7c5742dfaf3c3a5127604cf5195a1901d048c/torch_geometric-1.7.1.tar.gz (222kB)\n",
            "\u001b[K     |████████████████████████████████| 225kB 5.0MB/s \n",
            "\u001b[?25hRequirement already satisfied: numpy in /usr/local/lib/python3.7/dist-packages (from torch-geometric) (1.19.5)\n",
            "Requirement already satisfied: tqdm in /usr/local/lib/python3.7/dist-packages (from torch-geometric) (4.41.1)\n",
            "Requirement already satisfied: scipy in /usr/local/lib/python3.7/dist-packages (from torch-geometric) (1.4.1)\n",
            "Requirement already satisfied: networkx in /usr/local/lib/python3.7/dist-packages (from torch-geometric) (2.5.1)\n",
            "Requirement already satisfied: python-louvain in /usr/local/lib/python3.7/dist-packages (from torch-geometric) (0.15)\n",
            "Requirement already satisfied: scikit-learn in /usr/local/lib/python3.7/dist-packages (from torch-geometric) (0.22.2.post1)\n",
            "Requirement already satisfied: requests in /usr/local/lib/python3.7/dist-packages (from torch-geometric) (2.23.0)\n",
            "Requirement already satisfied: pandas in /usr/local/lib/python3.7/dist-packages (from torch-geometric) (1.1.5)\n",
            "Collecting rdflib\n",
            "\u001b[?25l  Downloading https://files.pythonhosted.org/packages/d0/6b/6454aa1db753c0f8bc265a5bd5c10b5721a4bb24160fb4faf758cf6be8a1/rdflib-5.0.0-py3-none-any.whl (231kB)\n",
            "\u001b[K     |████████████████████████████████| 235kB 9.9MB/s \n",
            "\u001b[?25hRequirement already satisfied: googledrivedownloader in /usr/local/lib/python3.7/dist-packages (from torch-geometric) (0.4)\n",
            "Requirement already satisfied: jinja2 in /usr/local/lib/python3.7/dist-packages (from torch-geometric) (2.11.3)\n",
            "Requirement already satisfied: decorator<5,>=4.3 in /usr/local/lib/python3.7/dist-packages (from networkx->torch-geometric) (4.4.2)\n",
            "Requirement already satisfied: joblib>=0.11 in /usr/local/lib/python3.7/dist-packages (from scikit-learn->torch-geometric) (1.0.1)\n",
            "Requirement already satisfied: idna<3,>=2.5 in /usr/local/lib/python3.7/dist-packages (from requests->torch-geometric) (2.10)\n",
            "Requirement already satisfied: chardet<4,>=3.0.2 in /usr/local/lib/python3.7/dist-packages (from requests->torch-geometric) (3.0.4)\n",
            "Requirement already satisfied: certifi>=2017.4.17 in /usr/local/lib/python3.7/dist-packages (from requests->torch-geometric) (2021.5.30)\n",
            "Requirement already satisfied: urllib3!=1.25.0,!=1.25.1,<1.26,>=1.21.1 in /usr/local/lib/python3.7/dist-packages (from requests->torch-geometric) (1.24.3)\n",
            "Requirement already satisfied: python-dateutil>=2.7.3 in /usr/local/lib/python3.7/dist-packages (from pandas->torch-geometric) (2.8.1)\n",
            "Requirement already satisfied: pytz>=2017.2 in /usr/local/lib/python3.7/dist-packages (from pandas->torch-geometric) (2018.9)\n",
            "Collecting isodate\n",
            "\u001b[?25l  Downloading https://files.pythonhosted.org/packages/9b/9f/b36f7774ff5ea8e428fdcfc4bb332c39ee5b9362ddd3d40d9516a55221b2/isodate-0.6.0-py2.py3-none-any.whl (45kB)\n",
            "\u001b[K     |████████████████████████████████| 51kB 5.3MB/s \n",
            "\u001b[?25hRequirement already satisfied: pyparsing in /usr/local/lib/python3.7/dist-packages (from rdflib->torch-geometric) (2.4.7)\n",
            "Requirement already satisfied: six in /usr/local/lib/python3.7/dist-packages (from rdflib->torch-geometric) (1.15.0)\n",
            "Requirement already satisfied: MarkupSafe>=0.23 in /usr/local/lib/python3.7/dist-packages (from jinja2->torch-geometric) (2.0.1)\n",
            "Building wheels for collected packages: torch-geometric\n",
            "  Building wheel for torch-geometric (setup.py) ... \u001b[?25l\u001b[?25hdone\n",
            "  Created wheel for torch-geometric: filename=torch_geometric-1.7.1-cp37-none-any.whl size=381206 sha256=25a8c9e057dba845e9808ea5d955acbae27c4f40e78fa000993caeda60cf8dc9\n",
            "  Stored in directory: /root/.cache/pip/wheels/f3/97/91/7572ed6157a4c1ccef22a91a7ae9365413b57bb1a65d6056fa\n",
            "Successfully built torch-geometric\n",
            "Installing collected packages: isodate, rdflib, torch-geometric\n",
            "Successfully installed isodate-0.6.0 rdflib-5.0.0 torch-geometric-1.7.1\n",
            "Collecting pymanopt\n",
            "\u001b[?25l  Downloading https://files.pythonhosted.org/packages/2e/fc/836f55664c3142c606d1e2e974e987ac2a81d6faf055cd1fdff3e4757e4a/pymanopt-0.2.5-py3-none-any.whl (59kB)\n",
            "\u001b[K     |████████████████████████████████| 61kB 1.9MB/s \n",
            "\u001b[?25hRequirement already satisfied: numpy>=1.16 in /usr/local/lib/python3.7/dist-packages (from pymanopt) (1.19.5)\n",
            "Requirement already satisfied: scipy in /usr/local/lib/python3.7/dist-packages (from pymanopt) (1.4.1)\n",
            "Installing collected packages: pymanopt\n",
            "Successfully installed pymanopt-0.2.5\n"
          ],
          "name": "stdout"
        }
      ]
    },
    {
      "cell_type": "markdown",
      "metadata": {
        "id": "DBjmF3_aq3EI"
      },
      "source": [
        "Then, we clone the repository and move the files into the working directory."
      ]
    },
    {
      "cell_type": "code",
      "metadata": {
        "colab": {
          "base_uri": "https://localhost:8080/"
        },
        "id": "-pkG2xBhxY6y",
        "outputId": "8f33e267-4812-4dc2-981f-b1ac2c1238af"
      },
      "source": [
        "!git clone https://github.com/basiralab/reggnn.git\n",
        "!mv reggnn/* ."
      ],
      "execution_count": 2,
      "outputs": [
        {
          "output_type": "stream",
          "text": [
            "Cloning into 'reggnn'...\n",
            "remote: Enumerating objects: 94, done.\u001b[K\n",
            "remote: Counting objects: 100% (94/94), done.\u001b[K\n",
            "remote: Compressing objects: 100% (68/68), done.\u001b[K\n",
            "remote: Total 94 (delta 48), reused 64 (delta 25), pack-reused 0\u001b[K\n",
            "Unpacking objects: 100% (94/94), done.\n"
          ],
          "name": "stdout"
        }
      ]
    },
    {
      "cell_type": "markdown",
      "metadata": {
        "id": "lTFaDQsurY3O"
      },
      "source": [
        "## Help For Arguments\n",
        "The help menu that lists valid argument values are displayed."
      ]
    },
    {
      "cell_type": "code",
      "metadata": {
        "colab": {
          "base_uri": "https://localhost:8080/"
        },
        "id": "llgchzhWzAXi",
        "outputId": "771b0649-274d-484e-88fc-3989ee12dc11"
      },
      "source": [
        "!python demo.py -h"
      ],
      "execution_count": 3,
      "outputs": [
        {
          "output_type": "stream",
          "text": [
            "2021-06-20 21:50:21.288811: I tensorflow/stream_executor/platform/default/dso_loader.cc:53] Successfully opened dynamic library libcudart.so.11.0\n",
            "usage: demo.py [-h] [--mode {data,infer}] [--model {CPM,PNA,RegGNN}]\n",
            "               [--data-source {simulated,saved}]\n",
            "               [--measure {abs,geo,tan,node,eigen,close,concat_orig,concat_scale}]\n",
            "\n",
            "optional arguments:\n",
            "  -h, --help            show this help message and exit\n",
            "  --mode {data,infer}   Creates data and topological features OR make\n",
            "                        inferences on data\n",
            "  --model {CPM,PNA,RegGNN}\n",
            "                        Chooses the inference model that will be used\n",
            "  --data-source {simulated,saved}\n",
            "                        Simulates random data or loads from path in config\n",
            "  --measure {abs,geo,tan,node,eigen,close,concat_orig,concat_scale}\n",
            "                        Chooses the topological measure to be used\n"
          ],
          "name": "stdout"
        }
      ]
    },
    {
      "cell_type": "markdown",
      "metadata": {
        "id": "7GIM9pxLyiuw"
      },
      "source": [
        "## Data Preparation\n",
        "Following command will generate data according to the ```config.py``` file and extract eigenvector centrality features from the data, saving all in the current directory."
      ]
    },
    {
      "cell_type": "code",
      "metadata": {
        "colab": {
          "base_uri": "https://localhost:8080/"
        },
        "id": "tMUgf9u3ydGe",
        "outputId": "d1b4e3bd-c8f7-44c0-ca16-2739feefb09f"
      },
      "source": [
        "!python demo.py --mode data --data-source simulated --measure eigen"
      ],
      "execution_count": 4,
      "outputs": [
        {
          "output_type": "stream",
          "text": [
            "2021-06-20 21:50:28.435885: I tensorflow/stream_executor/platform/default/dso_loader.cc:53] Successfully opened dynamic library libcudart.so.11.0\n",
            "'simulated' data will be used with 'eigen' measure.\n",
            "Starting topological feature extraction...\n",
            "100% 30/30 [01:39<00:00,  3.33s/it]\n",
            "Data and topological features are created and saved at ./simulated_data/ successfully.\n"
          ],
          "name": "stdout"
        }
      ]
    },
    {
      "cell_type": "markdown",
      "metadata": {
        "id": "n24yhNtzrMZP"
      },
      "source": [
        "## Making Inferences\n",
        "Following command will make inferences on the generated data, report the errors, and save the predictions in the working directory."
      ]
    },
    {
      "cell_type": "code",
      "metadata": {
        "colab": {
          "base_uri": "https://localhost:8080/"
        },
        "id": "OdRUXaRYyro5",
        "outputId": "d8236442-938c-4856-fb55-0e4548b40291"
      },
      "source": [
        "!python demo.py --mode infer --model RegGNN"
      ],
      "execution_count": 5,
      "outputs": [
        {
          "output_type": "stream",
          "text": [
            "2021-06-20 21:52:14.305496: I tensorflow/stream_executor/platform/default/dso_loader.cc:53] Successfully opened dynamic library libcudart.so.11.0\n",
            "RegGNN will be run on the data.\n",
            "Cross Validation Fold 1/5\n",
            "Cross Validation Fold 2/5\n",
            "Cross Validation Fold 3/5\n",
            "Cross Validation Fold 4/5\n",
            "Cross Validation Fold 5/5\n",
            "For k in [2, 3, 4, 5, 6, 7, 8, 9, 10, 11, 12, 13, 14, 15]:\n",
            "Mean MAE +- std over k: 6.559 +- 0.105\n",
            "Min, Max MAE over k: 6.410, 6.856\n",
            "Mean RMSE +- std over k: 8.320 +- 0.143\n",
            "Min, Max RMSE over k: 8.174, 8.733\n",
            "Predictions are successfully saved at ./.\n"
          ],
          "name": "stdout"
        }
      ]
    }
  ]
}